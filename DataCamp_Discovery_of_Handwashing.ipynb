{
  "nbformat": 4,
  "nbformat_minor": 0,
  "metadata": {
    "kernelspec": {
      "name": "python3",
      "display_name": "Python 3",
      "language": "python"
    },
    "language_info": {
      "name": "python",
      "version": "3.6.7",
      "mimetype": "text/x-python",
      "codemirror_mode": {
        "name": "ipython",
        "version": 3
      },
      "pygments_lexer": "ipython3",
      "nbconvert_exporter": "python",
      "file_extension": ".py"
    },
    "colab": {
      "name": "DataCamp_Discovery_of_Handwashing.ipynb",
      "provenance": [],
      "collapsed_sections": [],
      "include_colab_link": true
    }
  },
  "cells": [
    {
      "cell_type": "markdown",
      "metadata": {
        "id": "view-in-github",
        "colab_type": "text"
      },
      "source": [
        "<a href=\"https://colab.research.google.com/github/cezary-pokropek/Data_Camp_Projects/blob/main/DataCamp_Discovery_of_Handwashing.ipynb\" target=\"_parent\"><img src=\"https://colab.research.google.com/assets/colab-badge.svg\" alt=\"Open In Colab\"/></a>"
      ]
    },
    {
      "cell_type": "markdown",
      "metadata": {
        "dc": {
          "key": "13f090f9f0"
        },
        "deletable": false,
        "editable": false,
        "run_control": {
          "frozen": true
        },
        "tags": [
          "context"
        ],
        "id": "nbfTgYq2sctS"
      },
      "source": [
        "## 1. Meet Dr. Ignaz Semmelweis\n",
        "<p><img style=\"float: left;margin:5px 20px 5px 1px\" src=\"https://assets.datacamp.com/production/project_20/img/ignaz_semmelweis_1860.jpeg\"></p>\n",
        "<!--\n",
        "<img style=\"float: left;margin:5px 20px 5px 1px\" src=\"https://assets.datacamp.com/production/project_20/datasets/ignaz_semmelweis_1860.jpeg\">\n",
        "-->\n",
        "<p>This is Dr. Ignaz Semmelweis, a Hungarian physician born in 1818 and active at the Vienna General Hospital. If Dr. Semmelweis looks troubled it's probably because he's thinking about <em>childbed fever</em>: A deadly disease affecting women that just have given birth. He is thinking about it because in the early 1840s at the Vienna General Hospital as many as 10% of the women giving birth die from it. He is thinking about it because he knows the cause of childbed fever: It's the contaminated hands of the doctors delivering the babies. And they won't listen to him and <em>wash their hands</em>!</p>\n",
        "<p>In this notebook, we're going to reanalyze the data that made Semmelweis discover the importance of <em>handwashing</em>. Let's start by looking at the data that made Semmelweis realize that something was wrong with the procedures at Vienna General Hospital.</p>"
      ]
    },
    {
      "cell_type": "code",
      "metadata": {
        "dc": {
          "key": "13f090f9f0"
        },
        "tags": [
          "sample_code"
        ],
        "trusted": true,
        "id": "V4tkLmKPsctX",
        "outputId": "c17b5fab-382f-4059-bba3-68301caaa6f4"
      },
      "source": [
        "# importing modules\n",
        "import pandas as pd\n",
        "# Read datasets/yearly_deaths_by_clinic.csv into yearly\n",
        "yearly = pd.read_csv('datasets/yearly_deaths_by_clinic.csv')\n",
        "\n",
        "# Print out yearly\n",
        "print(yearly)"
      ],
      "execution_count": null,
      "outputs": [
        {
          "output_type": "stream",
          "text": [
            "    year  births  deaths    clinic\n",
            "0   1841    3036     237  clinic 1\n",
            "1   1842    3287     518  clinic 1\n",
            "2   1843    3060     274  clinic 1\n",
            "3   1844    3157     260  clinic 1\n",
            "4   1845    3492     241  clinic 1\n",
            "5   1846    4010     459  clinic 1\n",
            "6   1841    2442      86  clinic 2\n",
            "7   1842    2659     202  clinic 2\n",
            "8   1843    2739     164  clinic 2\n",
            "9   1844    2956      68  clinic 2\n",
            "10  1845    3241      66  clinic 2\n",
            "11  1846    3754     105  clinic 2\n"
          ],
          "name": "stdout"
        }
      ]
    },
    {
      "cell_type": "markdown",
      "metadata": {
        "dc": {
          "key": "45ea098e15"
        },
        "deletable": false,
        "editable": false,
        "run_control": {
          "frozen": true
        },
        "tags": [
          "context"
        ],
        "id": "dEWU_i5OsctY"
      },
      "source": [
        "## 2. The alarming number of deaths\n",
        "<p>The table above shows the number of women giving birth at the two clinics at the Vienna General Hospital for the years 1841 to 1846. You'll notice that giving birth was very dangerous; an <em>alarming</em> number of women died as the result of childbirth, most of them from childbed fever.</p>\n",
        "<p>We see this more clearly if we look at the <em>proportion of deaths</em> out of the number of women giving birth. Let's zoom in on the proportion of deaths at Clinic 1.</p>"
      ]
    },
    {
      "cell_type": "code",
      "metadata": {
        "dc": {
          "key": "45ea098e15"
        },
        "tags": [
          "sample_code"
        ],
        "trusted": true,
        "id": "tcmTiJ8tsctY",
        "outputId": "b9066e8a-ec3c-4437-9ec5-4b1f675fe24e"
      },
      "source": [
        "# Calculate proportion of deaths per no. births\n",
        "yearly[\"proportion_deaths\"] = yearly.deaths / yearly.births\n",
        "\n",
        "# Extract clinic 1 data into yearly1 and clinic 2 data into yearly2\n",
        "yearly1 = yearly.loc[yearly['clinic'] == 'clinic 1']\n",
        "yearly2 = yearly.loc[yearly['clinic'] == 'clinic 2']\n",
        "\n",
        "# Print out yearly1\n",
        "print(yearly1)"
      ],
      "execution_count": null,
      "outputs": [
        {
          "output_type": "stream",
          "text": [
            "   year  births  deaths    clinic  proportion_deaths\n",
            "0  1841    3036     237  clinic 1           0.078063\n",
            "1  1842    3287     518  clinic 1           0.157591\n",
            "2  1843    3060     274  clinic 1           0.089542\n",
            "3  1844    3157     260  clinic 1           0.082357\n",
            "4  1845    3492     241  clinic 1           0.069015\n",
            "5  1846    4010     459  clinic 1           0.114464\n"
          ],
          "name": "stdout"
        }
      ]
    },
    {
      "cell_type": "markdown",
      "metadata": {
        "dc": {
          "key": "2bc9206960"
        },
        "deletable": false,
        "editable": false,
        "run_control": {
          "frozen": true
        },
        "tags": [
          "context"
        ],
        "id": "dUf5bfP9sctZ"
      },
      "source": [
        "## 3. Death at the clinics\n",
        "<p>If we now plot the proportion of deaths at both clinic 1 and clinic 2  we'll see a curious pattern…</p>"
      ]
    },
    {
      "cell_type": "code",
      "metadata": {
        "dc": {
          "key": "2bc9206960"
        },
        "tags": [
          "sample_code"
        ],
        "trusted": true,
        "id": "Z92BRqkYsctZ",
        "outputId": "7ce45b5f-b2f0-42ae-96c7-7b703cd1a647"
      },
      "source": [
        "# This makes plots appear in the notebook\n",
        "%matplotlib inline\n",
        "\n",
        "# Plot yearly proportion of deaths at the two clinics\n",
        "ax = yearly1.plot(x=\"year\", y=\"proportion_deaths\", label=\"clinic 1\")\n",
        "yearly2.plot(x=\"year\", y=\"proportion_deaths\", label=\"clinic 2\",ax=ax)\n",
        "ax.set_ylabel(\"Proportion deaths\")"
      ],
      "execution_count": null,
      "outputs": [
        {
          "output_type": "execute_result",
          "data": {
            "text/plain": [
              "<matplotlib.text.Text at 0x7f6525eb16a0>"
            ]
          },
          "metadata": {
            "tags": []
          },
          "execution_count": 112
        },
        {
          "output_type": "display_data",
          "data": {
            "text/plain": [
              "<matplotlib.figure.Figure at 0x7f65628a9f28>"
            ],
            "image/png": "[encoded data removed]"
          },
          "metadata": {
            "tags": [],
            "needs_background": "light"
          }
        }
      ]
    },
    {
      "cell_type": "markdown",
      "metadata": {
        "dc": {
          "key": "0c9fdbf550"
        },
        "deletable": false,
        "editable": false,
        "run_control": {
          "frozen": true
        },
        "tags": [
          "context"
        ],
        "id": "QuNqaWPfsctZ"
      },
      "source": [
        "## 4. The handwashing begins\n",
        "<p>Why is the proportion of deaths constantly so much higher in Clinic 1? Semmelweis saw the same pattern and was puzzled and distressed. The only difference between the clinics was that many medical students served at Clinic 1, while mostly midwife students served at Clinic 2. While the midwives only tended to the women giving birth, the medical students also spent time in the autopsy rooms examining corpses. </p>\n",
        "<p>Semmelweis started to suspect that something on the corpses, spread from the hands of the medical students, caused childbed fever. So in a desperate attempt to stop the high mortality rates, he decreed: <em>Wash your hands!</em> This was an unorthodox and controversial request, nobody in Vienna knew about bacteria at this point in time. </p>\n",
        "<p>Let's load in monthly data from Clinic 1 to see if the handwashing had any effect.</p>"
      ]
    },
    {
      "cell_type": "code",
      "metadata": {
        "dc": {
          "key": "0c9fdbf550"
        },
        "tags": [
          "sample_code"
        ],
        "trusted": true,
        "id": "aMZh5Mxjscta",
        "outputId": "b8eb52af-dd0d-4cb8-ea4d-cf662278e3fc"
      },
      "source": [
        "# Read datasets/monthly_deaths.csv into monthly\n",
        "monthly = pd.read_csv(\"datasets/monthly_deaths.csv\", parse_dates=[\"date\"])\n",
        "\n",
        "# Calculate proportion of deaths per no. births\n",
        "monthly[\"proportion_deaths\"] = monthly.deaths / monthly.births\n",
        "\n",
        "# Print out the first rows in monthly\n",
        "print(monthly[\"proportion_deaths\"].head())"
      ],
      "execution_count": null,
      "outputs": [
        {
          "output_type": "stream",
          "text": [
            "0    0.145669\n",
            "1    0.075314\n",
            "2    0.043321\n",
            "3    0.015686\n",
            "4    0.007843\n",
            "Name: proportion_deaths, dtype: float64\n"
          ],
          "name": "stdout"
        }
      ]
    },
    {
      "cell_type": "markdown",
      "metadata": {
        "dc": {
          "key": "2da2a84119"
        },
        "deletable": false,
        "editable": false,
        "run_control": {
          "frozen": true
        },
        "tags": [
          "context"
        ],
        "id": "4dZCmlOnscta"
      },
      "source": [
        "## 5. The effect of handwashing\n",
        "<p>With the data loaded we can now look at the proportion of deaths over time. In the plot below we haven't marked where obligatory handwashing started, but it reduced the proportion of deaths to such a degree that you should be able to spot it!</p>"
      ]
    },
    {
      "cell_type": "code",
      "metadata": {
        "dc": {
          "key": "2da2a84119"
        },
        "tags": [
          "sample_code"
        ],
        "trusted": true,
        "scrolled": true,
        "id": "OVAS-_nJscta",
        "outputId": "887a1c2c-0d25-48d0-f453-7c62b4703f45"
      },
      "source": [
        "# Plot monthly proportion of deaths\n",
        "ax = monthly.plot(x=\"date\",y=\"proportion_deaths\")\n",
        "ax.set_ylabel(\"Proportion deaths\")"
      ],
      "execution_count": null,
      "outputs": [
        {
          "output_type": "execute_result",
          "data": {
            "text/plain": [
              "<matplotlib.text.Text at 0x7f6525ec0a90>"
            ]
          },
          "metadata": {
            "tags": []
          },
          "execution_count": 116
        },
        {
          "output_type": "display_data",
          "data": {
            "text/plain": [
              "<matplotlib.figure.Figure at 0x7f6548b0b1d0>"
            ],
            "image/png": "[encoded data removed]"
          },
          "metadata": {
            "tags": [],
            "needs_background": "light"
          }
        }
      ]
    },
    {
      "cell_type": "markdown",
      "metadata": {
        "dc": {
          "key": "518e95acc5"
        },
        "deletable": false,
        "editable": false,
        "run_control": {
          "frozen": true
        },
        "tags": [
          "context"
        ],
        "id": "rCmfCIR4sctb"
      },
      "source": [
        "## 6. The effect of handwashing highlighted\n",
        "<p>Starting from the summer of 1847 the proportion of deaths is drastically reduced and, yes, this was when Semmelweis made handwashing obligatory. </p>\n",
        "<p>The effect of handwashing is made even more clear if we highlight this in the graph.</p>"
      ]
    },
    {
      "cell_type": "code",
      "metadata": {
        "dc": {
          "key": "518e95acc5"
        },
        "tags": [
          "sample_code"
        ],
        "trusted": true,
        "id": "5Vep_LFLsctb",
        "outputId": "5bb5b952-c5da-49d1-d96d-c0f19c361bb8"
      },
      "source": [
        "# Date when handwashing was made mandatory\n",
        "import pandas as pd\n",
        "handwashing_start = pd.to_datetime('1847-06-01')\n",
        "\n",
        "# Split monthly into before and after handwashing_start\n",
        "before_washing = monthly.loc[monthly[\"date\"] < handwashing_start]\n",
        "after_washing = monthly.loc[monthly[\"date\"] >= handwashing_start]\n",
        "\n",
        "# Plot monthly proportion of deaths before and after handwashing\n",
        "ax = before_washing.plot(x=\"date\", y=\"proportion_deaths\", label=\"Before washing\")\n",
        "after_washing.plot(x=\"date\", y=\"proportion_deaths\", label=\"After washing\",ax=ax)\n",
        "ax.set_ylabel(\"Proportion deaths\")"
      ],
      "execution_count": null,
      "outputs": [
        {
          "output_type": "execute_result",
          "data": {
            "text/plain": [
              "<matplotlib.text.Text at 0x7f6548b3e080>"
            ]
          },
          "metadata": {
            "tags": []
          },
          "execution_count": 118
        },
        {
          "output_type": "display_data",
          "data": {
            "text/plain": [
              "<matplotlib.figure.Figure at 0x7f65494bd6d8>"
            ],
            "image/png": "[encoded data removed]"
          },
          "metadata": {
            "tags": [],
            "needs_background": "light"
          }
        }
      ]
    },
    {
      "cell_type": "markdown",
      "metadata": {
        "dc": {
          "key": "586a9f9803"
        },
        "deletable": false,
        "editable": false,
        "run_control": {
          "frozen": true
        },
        "tags": [
          "context"
        ],
        "id": "pwS-RCgVsctb"
      },
      "source": [
        "## 7. More handwashing, fewer deaths?\n",
        "<p>Again, the graph shows that handwashing had a huge effect. How much did it reduce the monthly proportion of deaths on average?</p>"
      ]
    },
    {
      "cell_type": "code",
      "metadata": {
        "dc": {
          "key": "586a9f9803"
        },
        "tags": [
          "sample_code"
        ],
        "trusted": true,
        "id": "3gkFeicUsctb",
        "outputId": "278aa132-1352-4940-c33d-4efb0e5c81fa"
      },
      "source": [
        "# Difference in mean monthly proportion of deaths due to handwashing\n",
        "before_proportion = before_washing[\"proportion_deaths\"]\n",
        "after_proportion = after_washing[\"proportion_deaths\"]\n",
        "mean_diff = after_proportion.mean() - before_proportion.mean()\n",
        "mean_diff"
      ],
      "execution_count": null,
      "outputs": [
        {
          "output_type": "execute_result",
          "data": {
            "text/plain": [
              "-0.08395660751183336"
            ]
          },
          "metadata": {
            "tags": []
          },
          "execution_count": 120
        }
      ]
    },
    {
      "cell_type": "markdown",
      "metadata": {
        "dc": {
          "key": "d8ff65292a"
        },
        "deletable": false,
        "editable": false,
        "run_control": {
          "frozen": true
        },
        "tags": [
          "context"
        ],
        "id": "P33tOJYasctc"
      },
      "source": [
        "## 8. A Bootstrap analysis of Semmelweis handwashing data\n",
        "<p>It reduced the proportion of deaths by around 8 percentage points! From 10% on average to just 2% (which is still a high number by modern standards). </p>\n",
        "<p>To get a feeling for the uncertainty around how much handwashing reduces mortalities we could look at a confidence interval (here calculated using the bootstrap method).</p>"
      ]
    },
    {
      "cell_type": "code",
      "metadata": {
        "dc": {
          "key": "d8ff65292a"
        },
        "tags": [
          "sample_code"
        ],
        "trusted": true,
        "id": "QnyYrXj8sctc",
        "outputId": "8a2bdcaa-089a-48bd-c862-cf40e3811214"
      },
      "source": [
        "# A bootstrap analysis of the reduction of deaths due to handwashing\n",
        "boot_mean_diff = []\n",
        "for i in range(3000):\n",
        "    boot_before = before_proportion.sample(frac=1, replace=True)\n",
        "    boot_after = after_proportion.sample(frac=1, replace=True)\n",
        "    boot_mean_diff.append( boot_after.mean() - boot_before.mean() )\n",
        "\n",
        "# Calculating a 95% confidence interval from boot_mean_diff \n",
        "confidence_interval = pd.Series(boot_mean_diff).quantile([0.025, 0.975])\n",
        "confidence_interval\n"
      ],
      "execution_count": null,
      "outputs": [
        {
          "output_type": "execute_result",
          "data": {
            "text/plain": [
              "0.025   -0.100749\n",
              "0.975   -0.066739\n",
              "dtype: float64"
            ]
          },
          "metadata": {
            "tags": []
          },
          "execution_count": 122
        }
      ]
    },
    {
      "cell_type": "markdown",
      "metadata": {
        "dc": {
          "key": "0645423069"
        },
        "deletable": false,
        "editable": false,
        "run_control": {
          "frozen": true
        },
        "tags": [
          "context"
        ],
        "id": "Kts7c5eosctc"
      },
      "source": [
        "## 9. The fate of Dr. Semmelweis\n",
        "<p>So handwashing reduced the proportion of deaths by between 6.7 and 10 percentage points, according to a 95% confidence interval. All in all, it would seem that Semmelweis had solid evidence that handwashing was a simple but highly effective procedure that could save many lives.</p>\n",
        "<p>The tragedy is that, despite the evidence, Semmelweis' theory — that childbed fever was caused by some \"substance\" (what we today know as <em>bacteria</em>) from autopsy room corpses — was ridiculed by contemporary scientists. The medical community largely rejected his discovery and in 1849 he was forced to leave the Vienna General Hospital for good.</p>\n",
        "<p>One reason for this was that statistics and statistical arguments were uncommon in medical science in the 1800s. Semmelweis only published his data as long tables of raw data, but he didn't show any graphs nor confidence intervals. If he would have had access to the analysis we've just put together he might have been more successful in getting the Viennese doctors to wash their hands.</p>"
      ]
    },
    {
      "cell_type": "code",
      "metadata": {
        "dc": {
          "key": "0645423069"
        },
        "tags": [
          "sample_code"
        ],
        "trusted": true,
        "collapsed": true,
        "id": "aCTO7geSsctc"
      },
      "source": [
        "# The data Semmelweis collected points to that:\n",
        "doctors_should_wash_their_hands = True"
      ],
      "execution_count": null,
      "outputs": []
    }
  ]
}